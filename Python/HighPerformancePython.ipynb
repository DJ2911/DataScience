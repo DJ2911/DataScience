{
 "cells": [
  {
   "cell_type": "code",
   "execution_count": 4,
   "metadata": {
    "collapsed": false
   },
   "outputs": [
    {
     "name": "stdout",
     "output_type": "stream",
     "text": [
      "0: z=              (-0.61661-0.42333j), abs(z)=0.75,c=(-0.61661-0.42333j)\n",
      "1: z=(-0.4156103968+0.09872902259999994j), abs(z)=0.43,c=(-0.61661-0.42333j)\n",
      "2: z=(-0.4536254179752979-0.5053956165169242j), abs(z)=0.68,c=(-0.61661-0.42333j)\n",
      "3: z=(-0.6662587093612582+0.03519059557074622j), abs(z)=0.67,c=(-0.61661-0.42333j)\n",
      "4: z=(-0.17394771021689426-0.47022208157323875j), abs(z)=0.50,c=(-0.61661-0.42333j)\n",
      "5: z=(-0.8074610001093689-0.25974189123382685j), abs(z)=0.85,c=(-0.61661-0.42333j)\n",
      "6: z=(-0.032082583364102746-0.003867105468070453j), abs(z)=0.03,c=(-0.61661-0.42333j)\n",
      "7: z=(-0.6155956623493866-0.4230818665328857j), abs(z)=0.75,c=(-0.61661-0.42333j)\n",
      "8: z=(-0.41665024628557057+0.09756472371265312j), abs(z)=0.43,c=(-0.61661-0.42333j)\n"
     ]
    }
   ],
   "source": [
    "# test\n",
    "c = -0.61661-0.42333j\n",
    "z = 0+0j\n",
    "for n in range(9):\n",
    "    z = z*z + c\n",
    "    print(\"{}: z={:33}, abs(z)={:0.2f},c={}\".format(n, z, abs(z), c))"
   ]
  },
  {
   "cell_type": "markdown",
   "metadata": {},
   "source": [
    "### 2.6 使用cprofile模块分析代码性能"
   ]
  },
  {
   "cell_type": "code",
   "execution_count": null,
   "metadata": {
    "collapsed": true
   },
   "outputs": [],
   "source": [
    "%python -m cProfile -s cumulative julial_nopil.py"
   ]
  },
  {
   "cell_type": "code",
   "execution_count": 1,
   "metadata": {
    "collapsed": true
   },
   "outputs": [],
   "source": [
    "from functools import wraps"
   ]
  },
  {
   "cell_type": "code",
   "execution_count": null,
   "metadata": {
    "collapsed": true
   },
   "outputs": [],
   "source": [
    "\"\"\"\n",
    "定义一个修饰器来自动测量时间\n",
    "\"\"\"\n",
    "def timefn(fn):\n",
    "    @wraps(fn)\n",
    "    def measure_time(*args, **kwargs):\n",
    "        t = time.time()\n",
    "        result = fn(*args, **kwargs)\n",
    "        t2 = time.time()\n",
    "        print(\"@timefn:\"+fn.func_name+\" took \"+str(t2-t1)+\"secondes\")\n",
    "        return result\n",
    "    return measure_time        "
   ]
  },
  {
   "cell_type": "code",
   "execution_count": 9,
   "metadata": {
    "collapsed": true
   },
   "outputs": [],
   "source": [
    "# 2.12 dist模块检查cpython字节码\n",
    "def fn_expression(upper = 100000):\n",
    "    total = 0 \n",
    "    for n in range(upper):\n",
    "        total+=n\n",
    "    return total\n",
    "\n",
    "def fn_terse(upper = 100000):\n",
    "    return sum(range(upper))\n",
    "\n",
    "print(fn_expression() == fn_terse())"
   ]
  },
  {
   "cell_type": "code",
   "execution_count": 12,
   "metadata": {
    "collapsed": false
   },
   "outputs": [
    {
     "name": "stdout",
     "output_type": "stream",
     "text": [
      "100 loops, best of 3: 7.61 ms per loop\n",
      "100 loops, best of 3: 2.43 ms per loop\n"
     ]
    }
   ],
   "source": [
    "%timeit fn_expression()\n",
    "%timeit fn_terse()"
   ]
  },
  {
   "cell_type": "code",
   "execution_count": 14,
   "metadata": {
    "collapsed": false
   },
   "outputs": [
    {
     "name": "stdout",
     "output_type": "stream",
     "text": [
      "  3           0 LOAD_CONST               1 (0)\n",
      "              3 STORE_FAST               1 (total)\n",
      "\n",
      "  4           6 SETUP_LOOP              30 (to 39)\n",
      "              9 LOAD_GLOBAL              0 (range)\n",
      "             12 LOAD_FAST                0 (upper)\n",
      "             15 CALL_FUNCTION            1 (1 positional, 0 keyword pair)\n",
      "             18 GET_ITER\n",
      "        >>   19 FOR_ITER                16 (to 38)\n",
      "             22 STORE_FAST               2 (n)\n",
      "\n",
      "  5          25 LOAD_FAST                1 (total)\n",
      "             28 LOAD_FAST                2 (n)\n",
      "             31 INPLACE_ADD\n",
      "             32 STORE_FAST               1 (total)\n",
      "             35 JUMP_ABSOLUTE           19\n",
      "        >>   38 POP_BLOCK\n",
      "\n",
      "  6     >>   39 LOAD_FAST                1 (total)\n",
      "             42 RETURN_VALUE\n"
     ]
    }
   ],
   "source": [
    "# dis查看两个函数的字节码指令行数\n",
    "import dis\n",
    "dis.dis(fn_expression)"
   ]
  },
  {
   "cell_type": "code",
   "execution_count": 15,
   "metadata": {
    "collapsed": false
   },
   "outputs": [
    {
     "name": "stdout",
     "output_type": "stream",
     "text": [
      "  9           0 LOAD_GLOBAL              0 (sum)\n",
      "              3 LOAD_GLOBAL              1 (range)\n",
      "              6 LOAD_FAST                0 (upper)\n",
      "              9 CALL_FUNCTION            1 (1 positional, 0 keyword pair)\n",
      "             12 CALL_FUNCTION            1 (1 positional, 0 keyword pair)\n",
      "             15 RETURN_VALUE\n"
     ]
    }
   ],
   "source": [
    "dis.dis(fn_terse)"
   ]
  },
  {
   "cell_type": "code",
   "execution_count": 19,
   "metadata": {
    "collapsed": false
   },
   "outputs": [],
   "source": [
    "?sum()"
   ]
  },
  {
   "cell_type": "code",
   "execution_count": null,
   "metadata": {
    "collapsed": true
   },
   "outputs": [],
   "source": [
    "# chapter 3 列表和元组\n",
    "### 3.1 更有效的搜索\n",
    "#### 二叉树\n",
    "def binary_search(needle, haystack):\n",
    "      imin, imax = 0, len(haystack)\n",
    "    while True:\n",
    "        if imin >= imax:\n",
    "            return -1\n",
    "        midpoint = (imin + imax)//2\n",
    "        if haystack[midpoint] > needle:\n",
    "            imax = midpoint\n",
    "        elif haystack[midpoint] < needle:\n",
    "            imin = midpoint+1\n",
    "        else:\n",
    "            return midpoint"
   ]
  },
  {
   "cell_type": "code",
   "execution_count": 24,
   "metadata": {
    "collapsed": false
   },
   "outputs": [
    {
     "name": "stdout",
     "output_type": "stream",
     "text": [
      "[49, 75, 283, 351, 358, 497, 555, 610, 642, 756]\n",
      "5\n"
     ]
    },
    {
     "data": {
      "text/plain": [
       "497"
      ]
     },
     "execution_count": 24,
     "metadata": {},
     "output_type": "execute_result"
    }
   ],
   "source": [
    "# 3-4 用bisect模块在列表中查询最接近目标的值\n",
    "import bisect\n",
    "import random\n",
    "def find_closest(haystack, needle):\n",
    "    # bisect_left will return the first value in the haystack\n",
    "    i = bisect.bisect_left(haystack, needle)\n",
    "    if i == len(haystack):\n",
    "        return i - 1\n",
    "    elif haystack[i] == needle:\n",
    "        return i\n",
    "    elif i>0:\n",
    "        j = i - 1\n",
    "        if haystack[i] - needle > needle - haystack[j]:\n",
    "            return j \n",
    "    return i\n",
    "\n",
    "importance_numbers = []\n",
    "for i in range(10):\n",
    "    new_number = random.randint(0, 1000)\n",
    "    bisect.insort(importance_numbers, new_number)\n",
    "print(importance_numbers)\n",
    "\n",
    "closest_index = find_closest(importance_numbers, 500)\n",
    "print(closest_index)\n",
    "importance_numbers[closest_index]"
   ]
  },
  {
   "cell_type": "code",
   "execution_count": 28,
   "metadata": {
    "collapsed": false
   },
   "outputs": [
    {
     "name": "stdout",
     "output_type": "stream",
     "text": [
      "The slowest run took 4.33 times longer than the fastest. This could mean that an intermediate result is being cached.\n",
      "100000 loops, best of 3: 3.56 µs per loop\n",
      "100000 loops, best of 3: 3.03 µs per loop\n"
     ]
    }
   ],
   "source": [
    "# 用列表和集合来查询不同的名字，主要是看复杂度\n",
    "### 方法1：用列表的方式进行统计\n",
    "def list_unique_names(phonebook):\n",
    "    unique_names= []\n",
    "    for name, phonenumber in phonebook:\n",
    "        first_name, last_name = name.split(\" \", 1)\n",
    "        for unique in unique_names:\n",
    "            if unique == first_name:\n",
    "                break\n",
    "            else:\n",
    "                unique_names.append(first_name)\n",
    "    return len(unique_names)\n",
    "               \n",
    "### 方法2: 用集合的方式\n",
    "def set_unique_names(phonebook):\n",
    "    unique_names = set()\n",
    "    for name, phonenumber in phonebook:\n",
    "        first_name, last_name = name.split(\" \", 1)\n",
    "        unique_names.add(first_name)\n",
    "    return len(unique_names)\n",
    "\n",
    "phonebook = [\n",
    "    (\"johe doe\", \"555-555-444454\"),\n",
    "    (\"albert einstein\", \"212-555-444454\"),\n",
    "    (\"jone murphey\", \"555-555-444454\"),\n",
    "    (\"albert rutherford\", \"555-555-444454\"),\n",
    "    (\"elaine bodian\", \"555-555-444454\")\n",
    "            ]\n",
    "               \n",
    "#列表的复杂度是O(nlog(n)),集合的方法是： O(n)             \n",
    "%timeit set_unique_names(phonebook)\n",
    "%timeit list_unique_names(phonebook)"
   ]
  },
  {
   "cell_type": "code",
   "execution_count": 30,
   "metadata": {
    "collapsed": false
   },
   "outputs": [
    {
     "data": {
      "text/plain": [
       "False"
      ]
     },
     "execution_count": 30,
     "metadata": {},
     "output_type": "execute_result"
    }
   ],
   "source": [
    "# 同一个类的两个实例一般是不同的，不会导致散列碰撞；\n",
    "class Point(object):\n",
    "    def __init__(self, x, y):\n",
    "        self.x, self.y = x, y\n",
    "\n",
    "p1 = Point(1,1)\n",
    "p2 = Point(1,1)\n",
    "set([p1,p2])\n",
    "Point(1,1) in set([p1,p2])"
   ]
  },
  {
   "cell_type": "code",
   "execution_count": 33,
   "metadata": {
    "collapsed": false
   },
   "outputs": [
    {
     "data": {
      "text/plain": [
       "True"
      ]
     },
     "execution_count": 33,
     "metadata": {},
     "output_type": "execute_result"
    }
   ],
   "source": [
    "# 我们可以提供一个基于对象内容而不是对象的内存中的位置的自定义散列函数来解决这个问题；\n",
    "class Point(object):\n",
    "    def __init__(self, x, y):\n",
    "        self.x, self.y = x, y\n",
    "    \n",
    "    def __hash__(self):\n",
    "        \"\"\"重新改写hash函数，用内容来进行hash\"\"\"\n",
    "        return hash((self.x, self.y))\n",
    "    \n",
    "    def __eq__(self, other):\n",
    "        return self.x == other.x and self.y == other.y\n",
    "\n",
    "p1 = Point(1,1)\n",
    "p2 = Point(1,1)\n",
    "set([p1,p2])\n",
    "Point(1,1) in set([p1,p2])    "
   ]
  },
  {
   "cell_type": "code",
   "execution_count": 36,
   "metadata": {
    "collapsed": false
   },
   "outputs": [],
   "source": [
    "# 最优双字母散列函数, 数值递增；\n",
    "def twoletter_hash(key):\n",
    "    offset = ord('a')\n",
    "    k1, k2 = key\n",
    "    return (ord(k2) - offset)+26*(ord(k1)-offset)"
   ]
  },
  {
   "cell_type": "code",
   "execution_count": 39,
   "metadata": {
    "collapsed": false
   },
   "outputs": [
    {
     "data": {
      "text/plain": [
       "27"
      ]
     },
     "execution_count": 39,
     "metadata": {},
     "output_type": "execute_result"
    }
   ],
   "source": [
    "twoletter_hash('bb')"
   ]
  },
  {
   "cell_type": "code",
   "execution_count": 42,
   "metadata": {
    "collapsed": false
   },
   "outputs": [
    {
     "name": "stdout",
     "output_type": "stream",
     "text": [
      "1 loop, best of 3: 1.97 s per loop\n",
      "1 loop, best of 3: 2.2 s per loop\n"
     ]
    }
   ],
   "source": [
    "# 命名空间查询的降速效果；\n",
    "# 解决方案是在循环开始之前设置一个本地变量保存一个函数全局引用；\n",
    "from math import sin\n",
    "def  tight_loop_slow(iterations):\n",
    "    result = 0 \n",
    "    for i in range(iterations):\n",
    "        result += sin(i)\n",
    "\n",
    "def tight_loop_fast(iterations):\n",
    "    result = 0\n",
    "    local_sin = sin\n",
    "    for i in range(iterations):\n",
    "        result += local_sin(i)\n",
    "    \n",
    "%timeit tight_loop_fast(10000000)\n",
    "%timeit tight_loop_slow(10000000)"
   ]
  },
  {
   "cell_type": "code",
   "execution_count": 43,
   "metadata": {
    "collapsed": true
   },
   "outputs": [],
   "source": [
    "# 4.2 字典和命名空间解析\n",
    "import math\n",
    "from math import sin\n",
    "\n",
    "def test1(x):\n",
    "    return math.sin(x)\n",
    "\n",
    "def test2(x):\n",
    "    return sin(x)\n",
    "\n",
    "def test3(x, sin=math.sin):\n",
    "    return sin(x)"
   ]
  },
  {
   "cell_type": "code",
   "execution_count": 44,
   "metadata": {
    "collapsed": false
   },
   "outputs": [
    {
     "name": "stdout",
     "output_type": "stream",
     "text": [
      "  6           0 LOAD_GLOBAL              0 (math)\n",
      "              3 LOAD_ATTR                1 (sin)\n",
      "              6 LOAD_FAST                0 (x)\n",
      "              9 CALL_FUNCTION            1 (1 positional, 0 keyword pair)\n",
      "             12 RETURN_VALUE\n",
      "  9           0 LOAD_GLOBAL              0 (sin)\n",
      "              3 LOAD_FAST                0 (x)\n",
      "              6 CALL_FUNCTION            1 (1 positional, 0 keyword pair)\n",
      "              9 RETURN_VALUE\n",
      " 12           0 LOAD_FAST                1 (sin)\n",
      "              3 LOAD_FAST                0 (x)\n",
      "              6 CALL_FUNCTION            1 (1 positional, 0 keyword pair)\n",
      "              9 RETURN_VALUE\n"
     ]
    }
   ],
   "source": [
    "# 查看命名空间解析结果\n",
    "dis.dis(test1)\n",
    "dis.dis(test2)\n",
    "dis.dis(test3)"
   ]
  },
  {
   "cell_type": "markdown",
   "metadata": {},
   "source": [
    "从结果可以看到，test1会经过两次字典查询，一次查找math模块，然后是查找sin函数;\n",
    "test2从math中导入sin函数，在全局命名中直接访问；\n",
    "test3以默认参数关键字的形式作为一个本地变量被保存在函数的定义中，无需字典查询，保存在一个微小的数组中，具有很快的查询速度。"
   ]
  },
  {
   "cell_type": "code",
   "execution_count": 47,
   "metadata": {
    "collapsed": false
   },
   "outputs": [
    {
     "ename": "ImportError",
     "evalue": "No module named 'Queue'",
     "output_type": "error",
     "traceback": [
      "\u001b[0;31m---------------------------------------------------------------------------\u001b[0m",
      "\u001b[0;31mImportError\u001b[0m                               Traceback (most recent call last)",
      "\u001b[0;32m<ipython-input-47-bdce7feef787>\u001b[0m in \u001b[0;36m<module>\u001b[0;34m()\u001b[0m\n\u001b[1;32m      1\u001b[0m \u001b[0;31m# chapter 7: 异步编程介绍\u001b[0m\u001b[0;34m\u001b[0m\u001b[0;34m\u001b[0m\u001b[0m\n\u001b[0;32m----> 2\u001b[0;31m \u001b[0;32mfrom\u001b[0m \u001b[0mQueue\u001b[0m \u001b[0;32mimport\u001b[0m \u001b[0mQueue\u001b[0m\u001b[0;34m\u001b[0m\u001b[0m\n\u001b[0m\u001b[1;32m      3\u001b[0m \u001b[0;32mfrom\u001b[0m \u001b[0mfunctools\u001b[0m \u001b[0;32mimport\u001b[0m \u001b[0mpartial\u001b[0m\u001b[0;34m\u001b[0m\u001b[0m\n\u001b[1;32m      4\u001b[0m \u001b[0;34m\u001b[0m\u001b[0m\n\u001b[1;32m      5\u001b[0m \u001b[0meventloop\u001b[0m \u001b[0;34m=\u001b[0m \u001b[0;32mNone\u001b[0m\u001b[0;34m\u001b[0m\u001b[0m\n",
      "\u001b[0;31mImportError\u001b[0m: No module named 'Queue'"
     ]
    }
   ],
   "source": [
    "# chapter 7: 异步编程介绍\n",
    "from Queue import Queue\n",
    "from functools import partial\n",
    "\n",
    "eventloop = None\n",
    "class EventLoop(Queue):\n",
    "    def start(self):\n",
    "        while True:\n",
    "            function = self.get()\n",
    "            function()\n",
    "            \n",
    "def do_hello():\n",
    "    global eventloop\n",
    "    print('hello')\n",
    "    eventloop.put(do_world)\n",
    "\n",
    "def do_world():\n",
    "    global eventloop\n",
    "    print('world')\n",
    "    eventloop.put(do_hello)\n",
    "    \n",
    "if __name__ == \"__main__\":\n",
    "    eventloop = EventLoop()\n",
    "    eventloop.put(do_hello)\n",
    "    eventloop.start()"
   ]
  },
  {
   "cell_type": "code",
   "execution_count": null,
   "metadata": {
    "collapsed": true
   },
   "outputs": [],
   "source": []
  }
 ],
 "metadata": {
  "kernelspec": {
   "display_name": "Python [Root]",
   "language": "python",
   "name": "Python [Root]"
  },
  "language_info": {
   "codemirror_mode": {
    "name": "ipython",
    "version": 3
   },
   "file_extension": ".py",
   "mimetype": "text/x-python",
   "name": "python",
   "nbconvert_exporter": "python",
   "pygments_lexer": "ipython3",
   "version": "3.5.2"
  }
 },
 "nbformat": 4,
 "nbformat_minor": 0
}
